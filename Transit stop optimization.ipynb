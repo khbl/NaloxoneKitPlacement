{
 "cells": [
  {
   "cell_type": "code",
   "execution_count": null,
   "metadata": {},
   "outputs": [],
   "source": [
    "#import packages needed for running this code\n",
    "import pandas as pd\n",
    "import numpy as np\n",
    "from sklearn.model_selection import KFold\n",
    "import xlsxwriter\n",
    "\n",
    "#import Gurobi solver; Gurobi must be installed separately prior to running this code\n",
    "from gurobipy import *"
   ]
  },
  {
   "cell_type": "code",
   "execution_count": null,
   "metadata": {},
   "outputs": [],
   "source": [
    "#import the opioid poisoning incidents\n",
    "incidents = pd.read_csv(\"Opioid poisonings.csv\")"
   ]
  },
  {
   "cell_type": "code",
   "execution_count": null,
   "metadata": {},
   "outputs": [],
   "source": [
    "#import the transit stop locations\n",
    "stops = pd.read_csv(\"Transit stops.csv\")"
   ]
  },
  {
   "cell_type": "code",
   "execution_count": null,
   "metadata": {},
   "outputs": [],
   "source": [
    "#import the distance matrix between all opioid poisonings and all transit stops\n",
    "#this was pre-computed using QGIS 3.30\n",
    "distmat = pd.read_csv(\"Poisoning-Transit distance table.csv\")"
   ]
  },
  {
   "cell_type": "code",
   "execution_count": null,
   "metadata": {},
   "outputs": [],
   "source": [
    "#set coverage distance limit\n",
    "\n",
    "#coverage_distance = 100\n",
    "coverage_distance = 160\n",
    "#coverage_distance = 280"
   ]
  },
  {
   "cell_type": "code",
   "execution_count": null,
   "metadata": {},
   "outputs": [],
   "source": [
    "#define the covering variable stop_adj[i,j] as 1 if an opioid poisoning is covered by a transit stop, and 0 otherwise\n",
    "\n",
    "stop_adj = {}\n",
    "    \n",
    "for row in distmat.itertuples():\n",
    "        \n",
    "    if (row.total_cost <= coverage_distance):\n",
    "        stop_adj[row.incident_id,row.stop_id] = 1\n",
    "    else: \n",
    "        stop_adj[row.incident_id,row.stop_id] = 0"
   ]
  },
  {
   "cell_type": "code",
   "execution_count": null,
   "metadata": {
    "scrolled": true
   },
   "outputs": [],
   "source": [
    "#define N as an array of values for naloxone kits that we want to consider placing\n",
    "N = np.arange(10,1010,10)\n",
    "\n",
    "#set up K-fold cross validation\n",
    "KF = KFold(n_splits = 5, shuffle = True)\n",
    "itera = 0\n",
    "\n",
    "#create and initialize the result summary Excel spreadsheet\n",
    "ff = xlsxwriter.Workbook('Optimization Result.xlsx')\n",
    "\n",
    "#create sheet to summarize opioid poisonings covered\n",
    "sheethh = ff.add_worksheet('Poisonings')\n",
    "sheethh.write(0,0,'N')\n",
    "sheethh.write(0,1,'Fold')\n",
    "sheethh.write(0,2,'Poisonings Covered')\n",
    "rowhh = 1\n",
    "\n",
    "#begin cross-validation of incidents by running the below analysis for each train/test fold combination\n",
    "for train, test in KF.split(incidents):\n",
    "    itera += 1\n",
    "    print ('Fold: '+str(itera))\n",
    "\n",
    "    #split the opioid poisoning dataframe into training and testing sets\n",
    "    train_set = incidents.iloc[train]\n",
    "    test_set = incidents.iloc[test]\n",
    "\n",
    "    #initialize the training fold Gurobi model\n",
    "    m1 = Model() \n",
    "    m1.NumScenarios = len(N)\n",
    "    \n",
    "    #initialize the testing fold Gurobi model\n",
    "    mt = Model()\n",
    "    mt.NumScenarios = len(N)\n",
    "\n",
    "    \n",
    "    #initialize variable dictionaries\n",
    "    x = {} \n",
    "    a = {}\n",
    "    y = {}\n",
    "    b = {}\n",
    "\n",
    "    #training set model: let x[j] = 1 if a naloxone kit is placed at transit stop j, and 0 otherwise\n",
    "    #testing set model: let a[j] be the value of x[j] for transit stop j\n",
    "    for j in stops['stop_id']: \n",
    "        x[j] = m1.addVar(vtype=GRB.BINARY, name=\"x%d\" % j) \n",
    "        a[j] = mt.addVar(vtype=GRB.BINARY, name=\"a%d\" % j)\n",
    "\n",
    "    #training set model: let y[i] = 1 if opioid poisoning i is covered by at least one placed naloxone kit, and 0 otherwise\n",
    "    for i in train_set['incident_id']:\n",
    "        y[i] = m1.addVar(vtype=GRB.BINARY, name=\"y%d\" % i)\n",
    "    \n",
    "        #constraint: for each opioid poisoning i, y[i] can only equal 1 if there is at least one placed naloxone kit within covering distance\n",
    "        m1.addConstr(quicksum(stop_adj[i,j]*x[j] for j in stops['stop_id']) >= y[i], \"match\")\n",
    "\n",
    "    #objective function: maximize opioid poisoning coverage in training set\n",
    "    m1.setObjective(quicksum(y[i] for i in train_set['incident_id']), GRB.MAXIMIZE) \n",
    "\n",
    "    #constraint: select exactly N kits (the base case is equal to 0 here)\n",
    "    budget = m1.addConstr(quicksum(x[j] for j in stops['stop_id']) == 0, \"budget\")\n",
    "    \n",
    "    #multiscenario model: adjust the value of N for each scenario\n",
    "    for kk in range(len(N)):\n",
    "        m1.Params.ScenarioNumber = kk\n",
    "        budget.ScenNRhs = N[kk]\n",
    "\n",
    "\n",
    "    #run the training set model\n",
    "    m1.update()                     \n",
    "    m1.optimize() \n",
    "\n",
    "    #force a[j] to equal x[j] based on the result of the training set model for each scenario in N\n",
    "    for kk in range(len(N)):\n",
    "        m1.Params.ScenarioNumber = kk\n",
    "        mt.Params.ScenarioNumber = kk\n",
    "        \n",
    "        for jj in stops['stop_id']:\n",
    "            if x[jj].ScenNX > 0.5:\n",
    "                a[jj].ScenNLB = 0.5\n",
    "            else: \n",
    "                a[jj].ScenNUB = 0.5\n",
    "    \n",
    "    \n",
    "    #testing set model: let b[i] = 1 if opioid poisoning i is covered by at least one placed naloxone kit, and 0 otherwise \n",
    "    for i in test_set['incident_id']:\n",
    "        b[i] = mt.addVar(vtype=GRB.BINARY, name='c%d' % i)\n",
    "        mt.addConstr(quicksum(stop_adj[i,j]*a[j] for j in stops['stop_id']) >= b[i], 'match')\n",
    "        \n",
    "    #objective function: maximize opioid poisoning coverage in testing set\n",
    "    mt.setObjective(quicksum(b[i] for i in test_set['incident_id']), GRB.MAXIMIZE)\n",
    "\n",
    "    \n",
    "    #run the testing set model\n",
    "    mt.update()\n",
    "    mt.optimize()\n",
    "\n",
    "    \n",
    "    #output opioid poisoning coverage in Excel file\n",
    "    for kk in range(len(N)):\n",
    "        mt.Params.ScenarioNumber = kk\n",
    "        sheethh.write(rowhh,0,N[kk])\n",
    "        sheethh.write(rowhh,1,itera)\n",
    "        sheethh.write(rowhh,2,mt.ScenNObjVal)\n",
    "        rowhh += 1 \n",
    "        \n",
    "#close Excel file\n",
    "ff.close()"
   ]
  }
 ],
 "metadata": {
  "kernelspec": {
   "display_name": "Python 3 (ipykernel)",
   "language": "python",
   "name": "python3"
  },
  "language_info": {
   "codemirror_mode": {
    "name": "ipython",
    "version": 3
   },
   "file_extension": ".py",
   "mimetype": "text/x-python",
   "name": "python",
   "nbconvert_exporter": "python",
   "pygments_lexer": "ipython3",
   "version": "3.10.9"
  }
 },
 "nbformat": 4,
 "nbformat_minor": 4
}
